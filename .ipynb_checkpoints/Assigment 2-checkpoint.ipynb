{
 "cells": [
  {
   "cell_type": "markdown",
   "id": "80de139f",
   "metadata": {},
   "source": [
    "# example 2"
   ]
  },
  {
   "cell_type": "markdown",
   "id": "fd965e8a",
   "metadata": {},
   "source": [
    "#Suppose a group of researchers is studying the heights of high school basketball players. The researchers take a random sample from the population and establish a mean height of 74 inches.\n",
    "#The mean of 74 inches is a point estimate of the population mean. A point estimate by itself is of limited usefulness because it does not reveal the uncertainty associated with the estimate; you do not have a good sense of how far away this 74-inch sample mean might be from the population mean. What's missing is the degree of uncertainty in this single sample.\n",
    "#Confidence intervals provide more information than point estimates. By establishing a 95% confidence interval using the sample's mean and standard deviation, and assuming a normal distribution as represented by the bell curve, the researchers arrive at an upper and lower bound that contains the true mean 95% of the time.\n",
    "#Assume the interval is between 72 inches and 76 inches. If the researchers take 100 random samples from the population of high school basketball players as a whole, the mean should fall between 72 and 76 inches in 95 of those samples.\n",
    "#If the researchers want even greater confidence, they can expand the interval to 99% confidence. Doing so invariably creates a broader range, as it makes room for a greater number of sample means. If they establish the 99% confidence interval as being between 70 inches and 78 inches, they can expect 99 of 100 samples evaluated to contain a mean value between these numbers.\n",
    "#A 90% confidence level, on the other hand, implies that we would expect 90% of the interval estimates to include the population parameter, and so forth."
   ]
  },
  {
   "cell_type": "markdown",
   "id": "66d20c14",
   "metadata": {},
   "source": [
    "# example3"
   ]
  },
  {
   "cell_type": "markdown",
   "id": "57870127",
   "metadata": {},
   "source": [
    "Confidence intervals are often used by engineers in manufacturing plants to determine if some new process, technique, method, etc. causes a meaningful change in the number of defective products produced by the plant.\n",
    "\n",
    "For example, an engineer may believe that a new process will change the number of defective widgets produced per day, which is currently 50. To test this, he may implement the new process and record the number of defective products produced each day for one month at the plant.\n",
    "\n",
    "He could then use the sample mean and sample standard deviation of the number of daily defects to construct a confidence interval for the true mean number of defective products produced by the new process.\n",
    "\n",
    "If the confidence interval does not contain the value “50” then the engineer can be confident that the new process produces a different number of daily defective products compared to the current process."
   ]
  },
  {
   "cell_type": "markdown",
   "id": "fd5a4131",
   "metadata": {},
   "source": [
    "# hypothesis testing"
   ]
  },
  {
   "cell_type": "markdown",
   "id": "eac0cb17",
   "metadata": {},
   "source": [
    "Take coin to toss.\n",
    "For example, a person wants to test that a penny has exactly a 50% chance of landing on heads, the null hypothesis would be that 50% is correct, and the alternative hypothesis would be that 50% is not correct.\n",
    "Mathematically, the null hypothesis would be represented as Ho: P = 0.5. The alternative hypothesis would be denoted as \"Ha\" and be identical to the null hypothesis, except with the equal sign struck-through, meaning that it does not equal 50%.\n",
    "A random sample of 100 coin flips is taken, and the null hypothesis is then tested. If it is found that the 100 coin flips were distributed as 40 heads and 60 tails, the analyst would assume that a penny does not have a 50% chance of landing on heads and would reject the null hypothesis and accept the alternative hypothesis."
   ]
  },
  {
   "cell_type": "markdown",
   "id": "e420bf97",
   "metadata": {},
   "source": [
    "# Defective case"
   ]
  },
  {
   "cell_type": "markdown",
   "id": "4fc1ed11",
   "metadata": {},
   "source": [
    "The answer can be reached without using the formula by applying the conditions to a hypothetical number of cases. For example, if the factory produces 1,000 items, 1000 will be produced by Machine 1 and 2000 by Machine 2. Machine  will produce 10% × 1000 = 100 defective items and Machine 2 7.5% × 2000 = 150, for a total of 250. Thus, the likelihood that a randomly selected defective item was produced by machine 1 is 100/250 (~40%).\n",
    "\n",
    "This problem can also be solved using Bayes' theorem: Let Xi denote the event that a randomly chosen item was made by the i th machine (for i = 1,2). Let Y denote the event that a randomly chosen item is defective. Then, we are given the following information:\n",
    "\n",
    "P(X1) = 0.33 and P(X2) = 0.66\n",
    "\n",
    "If the item was made by the first machine, then the probability that it is defective is 0.1; that is, P(Y | X1) = 0.1. Overall, we have\n",
    "\n",
    "P(Y|X1) = 0.1 and P(Y|X2) = 0.075\n",
    "\n",
    "To answer the original question, we first find P(Y). That can be done in the following way:\n",
    "\n",
    "P(Y) = P(Y|X1)P(X1) + P(Y|X2)P(X2) = 0.1(0.33) + 0.075(0.66) = 0.0825\n",
    "\n",
    "# Hence, 8.25% of the total output is defective.\n",
    "\n",
    "We are given that Y has occurred, and we want to calculate the conditional probability of X1. By Bayes' theorem,\n",
    "\n",
    "P(X1|Y) = P(Y|X1)P(X1)/P(Y) = (0.1)(0.33)/0.0825 = 0.4 = 100/250\n",
    "\n",
    "\n",
    "# Given that the item is defective, the probability that it was made by machine 1 is 100/250.\n",
    "\n",
    "i.e.\n",
    "\n",
    "# P(X1) = 40%"
   ]
  },
  {
   "cell_type": "markdown",
   "id": "e7fd95aa",
   "metadata": {},
   "source": [
    "Let E1 and E2 be the respective events that a person has a disease and a person has no disease.\n",
    "Since E1 and E2 are events complimentary to each other.\n",
    "∴P(E1)+P(E2)=1\n",
    "⇒P(E2)=1−P(E1)=1−0.001=0.999\n",
    "\n",
    "Let A be the event that the blood test result is positive.\n",
    "P(E1)=0.1% =0.1/100=0.001\n",
    "\n",
    "P(A∣E1)=P(result is positive given the person has disease)=99% =0.99\n",
    "P(A∣E2)=P(result is positive given that the person has no disease)=0.5% =0.005\n",
    "\n",
    "Probability that a person has a disease, given that his test result is positive, is given by P(E1∣A).\n",
    "By using Baye's theorem, we obtain\n",
    "\n",
    "P(E1∣A)=P(E1)⋅P(A∣E1)/P(E1)⋅P(A∣E1)+P(E2)⋅(A∣E2)=0.001×0.99/(0.001×0.99+0.999×0.005)\n",
    "\n",
    "=0.00099/(0.00099+0.004995)\n",
    "=0.00099/0.005985\n",
    "=990/5985\n",
    "=110/665\n",
    "=22/133\n",
    "=0.165\n",
    "\n",
    "# HENCE P(E1∣A) = 0.165 \n",
    "# i.e. The probability that a person has the disease given that his test result is positive is 0.165.\n",
    "\n",
    "\n",
    "\n",
    "*"
   ]
  },
  {
   "cell_type": "code",
   "execution_count": 13,
   "id": "0062aa85",
   "metadata": {},
   "outputs": [
    {
     "name": "stdout",
     "output_type": "stream",
     "text": [
      "0.10494668800000001\n"
     ]
    }
   ],
   "source": [
    "print(5*0.56*(0.44)**4)"
   ]
  },
  {
   "cell_type": "code",
   "execution_count": null,
   "id": "19df437c",
   "metadata": {},
   "outputs": [],
   "source": []
  }
 ],
 "metadata": {
  "kernelspec": {
   "display_name": "Python 3 (ipykernel)",
   "language": "python",
   "name": "python3"
  },
  "language_info": {
   "codemirror_mode": {
    "name": "ipython",
    "version": 3
   },
   "file_extension": ".py",
   "mimetype": "text/x-python",
   "name": "python",
   "nbconvert_exporter": "python",
   "pygments_lexer": "ipython3",
   "version": "3.9.7"
  }
 },
 "nbformat": 4,
 "nbformat_minor": 5
}
